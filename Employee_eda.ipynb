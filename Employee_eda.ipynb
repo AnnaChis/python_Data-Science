{
 "cells": [
  {
   "cell_type": "code",
   "execution_count": 1,
   "id": "92c1f2f5",
   "metadata": {},
   "outputs": [
    {
     "name": "stdout",
     "output_type": "stream",
     "text": [
      "--2023-01-29 11:45:11--  https://www.kaggle.com/datasets/tejashvi14/employee-future-prediction\n",
      "Resolving www.kaggle.com (www.kaggle.com)... 35.244.233.98\n",
      "Connecting to www.kaggle.com (www.kaggle.com)|35.244.233.98|:443... connected.\n",
      "HTTP request sent, awaiting response... 200 OK\n",
      "Length: unspecified [text/html]\n",
      "Saving to: 'Employee.csv'\n",
      "\n",
      "Employee.csv            [ <=>                ]  13.31K  --.-KB/s    in 0.007s  \n",
      "\n",
      "2023-01-29 11:45:12 (1.98 MB/s) - 'Employee.csv' saved [13630]\n",
      "\n"
     ]
    }
   ],
   "source": [
    "!wget 'https://www.kaggle.com/datasets/tejashvi14/employee-future-prediction' -O Employee.csv"
   ]
  },
  {
   "cell_type": "code",
   "execution_count": 2,
   "id": "c20ff5a8",
   "metadata": {},
   "outputs": [],
   "source": [
    "import pandas as pd"
   ]
  },
  {
   "cell_type": "code",
   "execution_count": 10,
   "id": "d4c84384",
   "metadata": {},
   "outputs": [],
   "source": [
    "empl = pd.read_csv('Employee.csv', sep = ',')"
   ]
  },
  {
   "cell_type": "markdown",
   "id": "0592ad5e",
   "metadata": {},
   "source": [
    "## посмотрим на данные"
   ]
  },
  {
   "cell_type": "code",
   "execution_count": 14,
   "id": "2fece149",
   "metadata": {
    "scrolled": false
   },
   "outputs": [
    {
     "data": {
      "text/html": [
       "<div>\n",
       "<style scoped>\n",
       "    .dataframe tbody tr th:only-of-type {\n",
       "        vertical-align: middle;\n",
       "    }\n",
       "\n",
       "    .dataframe tbody tr th {\n",
       "        vertical-align: top;\n",
       "    }\n",
       "\n",
       "    .dataframe thead th {\n",
       "        text-align: right;\n",
       "    }\n",
       "</style>\n",
       "<table border=\"1\" class=\"dataframe\">\n",
       "  <thead>\n",
       "    <tr style=\"text-align: right;\">\n",
       "      <th></th>\n",
       "      <th>JoiningYear</th>\n",
       "      <th>PaymentTier</th>\n",
       "      <th>Age</th>\n",
       "      <th>ExperienceInCurrentDomain</th>\n",
       "      <th>LeaveOrNot</th>\n",
       "    </tr>\n",
       "  </thead>\n",
       "  <tbody>\n",
       "    <tr>\n",
       "      <th>count</th>\n",
       "      <td>4653.000000</td>\n",
       "      <td>4653.000000</td>\n",
       "      <td>4653.000000</td>\n",
       "      <td>4653.000000</td>\n",
       "      <td>4653.000000</td>\n",
       "    </tr>\n",
       "    <tr>\n",
       "      <th>mean</th>\n",
       "      <td>2015.062970</td>\n",
       "      <td>2.698259</td>\n",
       "      <td>29.393295</td>\n",
       "      <td>2.905652</td>\n",
       "      <td>0.343864</td>\n",
       "    </tr>\n",
       "    <tr>\n",
       "      <th>std</th>\n",
       "      <td>1.863377</td>\n",
       "      <td>0.561435</td>\n",
       "      <td>4.826087</td>\n",
       "      <td>1.558240</td>\n",
       "      <td>0.475047</td>\n",
       "    </tr>\n",
       "    <tr>\n",
       "      <th>min</th>\n",
       "      <td>2012.000000</td>\n",
       "      <td>1.000000</td>\n",
       "      <td>22.000000</td>\n",
       "      <td>0.000000</td>\n",
       "      <td>0.000000</td>\n",
       "    </tr>\n",
       "    <tr>\n",
       "      <th>25%</th>\n",
       "      <td>2013.000000</td>\n",
       "      <td>3.000000</td>\n",
       "      <td>26.000000</td>\n",
       "      <td>2.000000</td>\n",
       "      <td>0.000000</td>\n",
       "    </tr>\n",
       "    <tr>\n",
       "      <th>50%</th>\n",
       "      <td>2015.000000</td>\n",
       "      <td>3.000000</td>\n",
       "      <td>28.000000</td>\n",
       "      <td>3.000000</td>\n",
       "      <td>0.000000</td>\n",
       "    </tr>\n",
       "    <tr>\n",
       "      <th>75%</th>\n",
       "      <td>2017.000000</td>\n",
       "      <td>3.000000</td>\n",
       "      <td>32.000000</td>\n",
       "      <td>4.000000</td>\n",
       "      <td>1.000000</td>\n",
       "    </tr>\n",
       "    <tr>\n",
       "      <th>max</th>\n",
       "      <td>2018.000000</td>\n",
       "      <td>3.000000</td>\n",
       "      <td>41.000000</td>\n",
       "      <td>7.000000</td>\n",
       "      <td>1.000000</td>\n",
       "    </tr>\n",
       "  </tbody>\n",
       "</table>\n",
       "</div>"
      ],
      "text/plain": [
       "       JoiningYear  PaymentTier          Age  ExperienceInCurrentDomain  \\\n",
       "count  4653.000000  4653.000000  4653.000000                4653.000000   \n",
       "mean   2015.062970     2.698259    29.393295                   2.905652   \n",
       "std       1.863377     0.561435     4.826087                   1.558240   \n",
       "min    2012.000000     1.000000    22.000000                   0.000000   \n",
       "25%    2013.000000     3.000000    26.000000                   2.000000   \n",
       "50%    2015.000000     3.000000    28.000000                   3.000000   \n",
       "75%    2017.000000     3.000000    32.000000                   4.000000   \n",
       "max    2018.000000     3.000000    41.000000                   7.000000   \n",
       "\n",
       "        LeaveOrNot  \n",
       "count  4653.000000  \n",
       "mean      0.343864  \n",
       "std       0.475047  \n",
       "min       0.000000  \n",
       "25%       0.000000  \n",
       "50%       0.000000  \n",
       "75%       1.000000  \n",
       "max       1.000000  "
      ]
     },
     "execution_count": 14,
     "metadata": {},
     "output_type": "execute_result"
    }
   ],
   "source": [
    "empl.describe()"
   ]
  },
  {
   "cell_type": "markdown",
   "id": "ac062629",
   "metadata": {},
   "source": [
    "Пропущенных значений нет, минимумы и максимумы выглядят адекватно.\n",
    "Посмотрим распределения"
   ]
  },
  {
   "cell_type": "code",
   "execution_count": 23,
   "id": "44800d48",
   "metadata": {},
   "outputs": [
    {
     "data": {
      "text/plain": [
       "Male      2778\n",
       "Female    1875\n",
       "Name: Gender, dtype: int64"
      ]
     },
     "execution_count": 23,
     "metadata": {},
     "output_type": "execute_result"
    }
   ],
   "source": [
    "empl['Gender'].value_counts()"
   ]
  },
  {
   "cell_type": "markdown",
   "id": "cceb0227",
   "metadata": {},
   "source": [
    "Таргет - LeaveOrNot.\n",
    "Количественных признаков нет"
   ]
  },
  {
   "cell_type": "code",
   "execution_count": 24,
   "id": "f0659189",
   "metadata": {},
   "outputs": [],
   "source": [
    "import numpy as np\n",
    "import pandas as pd\n",
    "\n",
    "import matplotlib\n",
    "import matplotlib.image as img\n",
    "import matplotlib.pyplot as plt\n",
    "import seaborn as sns\n",
    "from scipy import stats\n",
    "\n",
    "import warnings\n",
    "warnings.filterwarnings('ignore')"
   ]
  },
  {
   "cell_type": "code",
   "execution_count": 56,
   "id": "080f3519",
   "metadata": {},
   "outputs": [
    {
     "data": {
      "text/plain": [
       "Text(0.5, 1.0, 'Посмотрим распределения')"
      ]
     },
     "execution_count": 56,
     "metadata": {},
     "output_type": "execute_result"
    },
    {
     "data": {
      "image/png": "[encoded data removed]",
      "text/plain": [
       "<Figure size 1152x1152 with 6 Axes>"
      ]
     },
     "metadata": {
      "needs_background": "light"
     },
     "output_type": "display_data"
    }
   ],
   "source": [
    "empl.hist(figsize=(16, 16), bins=20, grid=False);\n",
    "plt.title('Посмотрим распределения')\n",
    "\n"
   ]
  },
  {
   "cell_type": "markdown",
   "id": "60abadf0",
   "metadata": {},
   "source": [
    "Большинство сотрудников от 26 - 28 лет. Уровень зп в основном выскокий, основной набор в 2017 году, уволилось примерно треть сотрудников\n"
   ]
  },
  {
   "cell_type": "code",
   "execution_count": 63,
   "id": "145194d3",
   "metadata": {},
   "outputs": [],
   "source": [
    "corr_matrix = empl.corr()\n",
    "corr_matrix = np.round(corr_matrix, 2) # округляем \n",
    "#corr_matrix[np.abs(corr_matrix) < 0.3] = 0# все, что меньше 30% \n"
   ]
  },
  {
   "cell_type": "code",
   "execution_count": 64,
   "id": "f923a49c",
   "metadata": {},
   "outputs": [
    {
     "data": {
      "image/png": "[encoded data removed]",
      "text/plain": [
       "<Figure size 432x288 with 2 Axes>"
      ]
     },
     "metadata": {
      "needs_background": "light"
     },
     "output_type": "display_data"
    }
   ],
   "source": [
    "sns.heatmap(corr_matrix, annot=True, linewidths=.5, cmap='coolwarm') \n",
    "\n",
    "plt.title('Correlation matrix')\n",
    "plt.show()\n"
   ]
  },
  {
   "cell_type": "markdown",
   "id": "1b50ccfa",
   "metadata": {},
   "source": [
    "Корреляция отсутствует"
   ]
  },
  {
   "cell_type": "code",
   "execution_count": 98,
   "id": "4fe867f2",
   "metadata": {},
   "outputs": [],
   "source": [
    "ml=empl[empl['Gender']=='Male'].groupby(['LeaveOrNot'])['Gender'].value_counts()\n",
    "ml\n",
    "fl = empl[empl['Gender']=='Female'].groupby(['LeaveOrNot'])['Gender'].value_counts()\n"
   ]
  },
  {
   "cell_type": "code",
   "execution_count": 99,
   "id": "0cba54c9",
   "metadata": {},
   "outputs": [
    {
     "data": {
      "image/png": "[encoded data removed]",
      "text/plain": [
       "<Figure size 720x432 with 2 Axes>"
      ]
     },
     "metadata": {},
     "output_type": "display_data"
    }
   ],
   "source": [
    "plt.figure(figsize=(10, 6))\n",
    "plt.subplot(121)\n",
    "plt.title('Male left')\n",
    "plt.pie(ml.values, labels=ml.index, autopct='%.2f%%');\n",
    "\n",
    "plt.subplot(122)\n",
    "plt.title('Female left')\n",
    "plt.pie(fl.values, labels=fl.index, autopct='%.2f%%');"
   ]
  },
  {
   "cell_type": "markdown",
   "id": "54507cd3",
   "metadata": {},
   "source": [
    "Мужчины увольняются реже, тогда как женщин увольняется почти половина.\n",
    "Похоже, что для таргета признак пол является важным. Посмотрим зависимость ЗП "
   ]
  },
  {
   "cell_type": "code",
   "execution_count": 146,
   "id": "27944970",
   "metadata": {},
   "outputs": [],
   "source": [
    "pm=empl[(empl['LeaveOrNot']==1)].groupby(['LeaveOrNot'])['Gender'].value_counts()\n",
    "pf=empl[(empl['Gender']=='Female')&(empl['LeaveOrNot']==1)].groupby(['PaymentTier'])['Gender'].value_counts()#\n"
   ]
  },
  {
   "cell_type": "code",
   "execution_count": 153,
   "id": "2d3acea0",
   "metadata": {},
   "outputs": [],
   "source": [
    "pf=empl[(empl['Gender']=='Female')&(empl['LeaveOrNot']==1)]['PaymentTier'].value_counts()\n",
    "pm=empl[(empl['Gender']=='Male')&(empl['LeaveOrNot']==1)]['PaymentTier'].value_counts()"
   ]
  },
  {
   "cell_type": "code",
   "execution_count": 179,
   "id": "4923f5bb",
   "metadata": {},
   "outputs": [],
   "source": [
    "pleft=empl[(empl['LeaveOrNot']==1)][['PaymentTier', 'Gender']].value_counts()\n"
   ]
  },
  {
   "cell_type": "code",
   "execution_count": 180,
   "id": "70ce9a6f",
   "metadata": {},
   "outputs": [
    {
     "data": {
      "image/png": "[encoded data removed]",
      "text/plain": [
       "<Figure size 720x432 with 3 Axes>"
      ]
     },
     "metadata": {
      "needs_background": "light"
     },
     "output_type": "display_data"
    }
   ],
   "source": [
    "plt.figure(figsize=(10, 6))\n",
    "plt.subplot(131)\n",
    "plt.title('Male left')\n",
    "sns.barplot(pm.index, pf.values);\n",
    "\n",
    "plt.subplot(132)\n",
    "plt.title('Female left')\n",
    "sns.barplot(pf.index, pf.values);\n",
    "\n",
    "plt.subplot(133)\n",
    "plt.title('All left')\n",
    "pleft.plot(kind='bar',\n",
    "            title='ocean_proximity');"
   ]
  },
  {
   "cell_type": "markdown",
   "id": "2c3d8467",
   "metadata": {},
   "source": [
    " Больше всего увольняются высокооплачиваемые мужчины,\n",
    " Далее среднеоплачиваемые женщины, примерно так же - высокооплачиываемые женщины"
   ]
  },
  {
   "cell_type": "code",
   "execution_count": 201,
   "id": "149a152c",
   "metadata": {},
   "outputs": [],
   "source": [
    "pf_patm2=empl[(empl['Gender']=='Female')&(empl['LeaveOrNot']==1)][['PaymentTier','ExperienceInCurrentDomain']].value_counts()\n",
    "\n",
    "pm_patm2=empl[(empl['Gender']=='Male')&(empl['LeaveOrNot']==1)][['PaymentTier','ExperienceInCurrentDomain']].value_counts()\n"
   ]
  },
  {
   "cell_type": "code",
   "execution_count": 236,
   "id": "a00df64b",
   "metadata": {},
   "outputs": [
    {
     "data": {
      "image/png": "[encoded data removed]",
      "text/plain": [
       "<Figure size 720x432 with 2 Axes>"
      ]
     },
     "metadata": {
      "needs_background": "light"
     },
     "output_type": "display_data"
    }
   ],
   "source": [
    "plt.figure(figsize=(10, 6))\n",
    "plt.title('Exp_vs_paym')\n",
    "\n",
    "plt.subplot(121)\n",
    "plt.suptitle('female')\n",
    "pf_patm2.plot(kind='bar');\n",
    "\n",
    "\n",
    "plt.subplot(122)\n",
    "plt.suptitle('male')\n",
    "pm_patm2.plot(kind='bar');\n",
    "\n",
    "\n",
    "plt.show()"
   ]
  },
  {
   "cell_type": "markdown",
   "id": "f88571da",
   "metadata": {},
   "source": [
    "Больше всего увольнений среди женщин - со средней ЗП и маленьким опытом в этой области. Среди мужчин больше всего увольнений с высоким уровнем зп и низким опытом"
   ]
  },
  {
   "cell_type": "code",
   "execution_count": 230,
   "id": "65eff094",
   "metadata": {},
   "outputs": [],
   "source": [
    "age_left=empl[empl['LeaveOrNot']==1].groupby(['Age'])['Gender'].value_counts().unstack()\n"
   ]
  },
  {
   "cell_type": "code",
   "execution_count": null,
   "id": "ebc0ecd0",
   "metadata": {},
   "outputs": [],
   "source": [
    "age_left=empl[empl['LeaveOrNot']==1].groupby(['Age'])['Gender'].value_counts().unstack()\n"
   ]
  },
  {
   "cell_type": "code",
   "execution_count": 237,
   "id": "70fef7ca",
   "metadata": {
    "scrolled": true
   },
   "outputs": [
    {
     "data": {
      "text/plain": [
       "<Figure size 720x432 with 0 Axes>"
      ]
     },
     "metadata": {},
     "output_type": "display_data"
    },
    {
     "data": {
      "image/png": "[encoded data removed]",
      "text/plain": [
       "<Figure size 432x288 with 1 Axes>"
      ]
     },
     "metadata": {
      "needs_background": "light"
     },
     "output_type": "display_data"
    }
   ],
   "source": [
    "plt.figure(figsize=(10, 6))\n",
    "\n",
    "age_left.plot(kind='bar')\n",
    "plt.title('By Age')\n",
    "plt.show()\n"
   ]
  },
  {
   "cell_type": "code",
   "execution_count": null,
   "id": "90189fb4",
   "metadata": {},
   "outputs": [],
   "source": [
    "Особой зависимость между возрастом и увольнениями нет "
   ]
  },
  {
   "cell_type": "code",
   "execution_count": 246,
   "id": "36944da9",
   "metadata": {},
   "outputs": [
    {
     "data": {
      "text/plain": [
       "<AxesSubplot:ylabel='None'>"
      ]
     },
     "execution_count": 246,
     "metadata": {},
     "output_type": "execute_result"
    },
    {
     "data": {
      "image/png": "[encoded data removed]",
      "text/plain": [
       "<Figure size 720x432 with 1 Axes>"
      ]
     },
     "metadata": {},
     "output_type": "display_data"
    }
   ],
   "source": [
    "g=empl[['Gender', 'LeaveOrNot']].value_counts()\n",
    "plt.figure(figsize=(10, 6))\n",
    "g.plot(kind='pie', labels=g.index, autopct='%.2f%%')"
   ]
  },
  {
   "cell_type": "markdown",
   "id": "6e1c1a95",
   "metadata": {},
   "source": [
    "Мужчин больше, чем женщин.\n",
    "Из всех принятых на работу, остается 21% женщин и 44% мужчин"
   ]
  },
  {
   "cell_type": "code",
   "execution_count": 321,
   "id": "b41e9567",
   "metadata": {},
   "outputs": [],
   "source": [
    "e=empl.groupby(['City','Gender'], as_index=False)['LeaveOrNot'].agg(['count', 'sum'])\n",
    "e['part_left']= e['sum']/e['count']\n",
    "e['part_of_all']=e['sum']/e['count'].sum()"
   ]
  },
  {
   "cell_type": "code",
   "execution_count": 322,
   "id": "9a3d8b4b",
   "metadata": {
    "scrolled": true
   },
   "outputs": [
    {
     "data": {
      "image/png": "[encoded data removed]",
      "text/plain": [
       "<Figure size 720x432 with 1 Axes>"
      ]
     },
     "metadata": {
      "needs_background": "light"
     },
     "output_type": "display_data"
    }
   ],
   "source": [
    "plt.figure(figsize=(10, 6))\n",
    "\n",
    "e['part_of_all'].plot(kind='bar')\n",
    "plt.title('Part left')\n",
    "plt.show()"
   ]
  },
  {
   "cell_type": "markdown",
   "id": "0ff77feb",
   "metadata": {},
   "source": [
    "наибоьшая доля уволенных - женщины в Pune (около 10%) и мужчины в Bangalore (около 8%). Город - важен для таргета"
   ]
  },
  {
   "cell_type": "code",
   "execution_count": 331,
   "id": "0f178b3d",
   "metadata": {},
   "outputs": [],
   "source": [
    "e_pune=empl[(empl['City']=='Pune')&(empl['Gender']=='Female')].groupby(['JoiningYear'])['LeaveOrNot'].agg(['sum', 'count'])\n",
    "e_pune['part_left']= e_pune['sum']/e_pune['count']\n",
    "e_pune['part_of_all']=e_pune['sum']/e_pune['count'].sum()"
   ]
  },
  {
   "cell_type": "code",
   "execution_count": 333,
   "id": "ffbe553a",
   "metadata": {},
   "outputs": [
    {
     "data": {
      "image/png": "[encoded data removed]",
      "text/plain": [
       "<Figure size 720x432 with 1 Axes>"
      ]
     },
     "metadata": {
      "needs_background": "light"
     },
     "output_type": "display_data"
    }
   ],
   "source": [
    "plt.figure(figsize=(10, 6))\n",
    "\n",
    "e_pune['part_of_all'].plot(kind='bar')\n",
    "plt.title('Part left')\n",
    "plt.show()"
   ]
  },
  {
   "cell_type": "markdown",
   "id": "058b5569",
   "metadata": {},
   "source": [
    "Большинство уволенных женщин в Pune - приняты в 2015 году"
   ]
  },
  {
   "cell_type": "code",
   "execution_count": 339,
   "id": "42d8e917",
   "metadata": {},
   "outputs": [],
   "source": [
    "e_pune_2015=empl[(empl['City']=='Pune')&(empl['Gender']=='Female')&(empl['JoiningYear']==2015)].groupby(['Education'])['LeaveOrNot'].agg(['sum', 'count'])\n",
    "e_pune_2015['part_left']= e_pune_2015['sum']/e_pune_2015['count']\n",
    "e_pune_2015['part_of_all']=e_pune_2015['sum']/e_pune_2015['count'].sum()"
   ]
  },
  {
   "cell_type": "code",
   "execution_count": 340,
   "id": "8b78031b",
   "metadata": {
    "scrolled": true
   },
   "outputs": [
    {
     "data": {
      "image/png": "[encoded data removed]",
      "text/plain": [
       "<Figure size 720x432 with 1 Axes>"
      ]
     },
     "metadata": {
      "needs_background": "light"
     },
     "output_type": "display_data"
    }
   ],
   "source": [
    "plt.figure(figsize=(10, 6))\n",
    "\n",
    "e_pune_2015['part_of_all'].plot(kind='bar')\n",
    "plt.title('Part left')\n",
    "plt.show()"
   ]
  },
  {
   "cell_type": "code",
   "execution_count": 348,
   "id": "4ff38248",
   "metadata": {},
   "outputs": [],
   "source": [
    "e_pune_2015_bac=empl[(empl['City']=='Pune')&(empl['Gender']=='Female')&(empl['JoiningYear']==2015)&(empl['Education']=='Bachelors')].groupby(['PaymentTier'])['LeaveOrNot'].agg(['sum', 'count'])\n",
    "e_pune_2015_bac['part_left']= e_pune_2015_bac['sum']/e_pune_2015_bac['count']\n",
    "e_pune_2015_bac['part_of_all']=e_pune_2015_bac['sum']/e_pune_2015_bac['count'].sum()"
   ]
  },
  {
   "cell_type": "code",
   "execution_count": 345,
   "id": "e217567f",
   "metadata": {},
   "outputs": [
    {
     "data": {
      "text/html": [
       "<div>\n",
       "<style scoped>\n",
       "    .dataframe tbody tr th:only-of-type {\n",
       "        vertical-align: middle;\n",
       "    }\n",
       "\n",
       "    .dataframe tbody tr th {\n",
       "        vertical-align: top;\n",
       "    }\n",
       "\n",
       "    .dataframe thead th {\n",
       "        text-align: right;\n",
       "    }\n",
       "</style>\n",
       "<table border=\"1\" class=\"dataframe\">\n",
       "  <thead>\n",
       "    <tr style=\"text-align: right;\">\n",
       "      <th></th>\n",
       "      <th>Education</th>\n",
       "      <th>JoiningYear</th>\n",
       "      <th>City</th>\n",
       "      <th>PaymentTier</th>\n",
       "      <th>Age</th>\n",
       "      <th>Gender</th>\n",
       "      <th>EverBenched</th>\n",
       "      <th>ExperienceInCurrentDomain</th>\n",
       "      <th>LeaveOrNot</th>\n",
       "    </tr>\n",
       "  </thead>\n",
       "  <tbody>\n",
       "    <tr>\n",
       "      <th>18</th>\n",
       "      <td>Bachelors</td>\n",
       "      <td>2015</td>\n",
       "      <td>Pune</td>\n",
       "      <td>2</td>\n",
       "      <td>30</td>\n",
       "      <td>Female</td>\n",
       "      <td>No</td>\n",
       "      <td>0</td>\n",
       "      <td>1</td>\n",
       "    </tr>\n",
       "    <tr>\n",
       "      <th>51</th>\n",
       "      <td>Bachelors</td>\n",
       "      <td>2015</td>\n",
       "      <td>Pune</td>\n",
       "      <td>2</td>\n",
       "      <td>26</td>\n",
       "      <td>Female</td>\n",
       "      <td>No</td>\n",
       "      <td>4</td>\n",
       "      <td>1</td>\n",
       "    </tr>\n",
       "    <tr>\n",
       "      <th>103</th>\n",
       "      <td>Bachelors</td>\n",
       "      <td>2015</td>\n",
       "      <td>Pune</td>\n",
       "      <td>2</td>\n",
       "      <td>28</td>\n",
       "      <td>Female</td>\n",
       "      <td>Yes</td>\n",
       "      <td>1</td>\n",
       "      <td>1</td>\n",
       "    </tr>\n",
       "    <tr>\n",
       "      <th>205</th>\n",
       "      <td>Bachelors</td>\n",
       "      <td>2015</td>\n",
       "      <td>Pune</td>\n",
       "      <td>2</td>\n",
       "      <td>26</td>\n",
       "      <td>Female</td>\n",
       "      <td>No</td>\n",
       "      <td>4</td>\n",
       "      <td>1</td>\n",
       "    </tr>\n",
       "    <tr>\n",
       "      <th>224</th>\n",
       "      <td>Bachelors</td>\n",
       "      <td>2015</td>\n",
       "      <td>Pune</td>\n",
       "      <td>1</td>\n",
       "      <td>24</td>\n",
       "      <td>Female</td>\n",
       "      <td>Yes</td>\n",
       "      <td>2</td>\n",
       "      <td>1</td>\n",
       "    </tr>\n",
       "    <tr>\n",
       "      <th>...</th>\n",
       "      <td>...</td>\n",
       "      <td>...</td>\n",
       "      <td>...</td>\n",
       "      <td>...</td>\n",
       "      <td>...</td>\n",
       "      <td>...</td>\n",
       "      <td>...</td>\n",
       "      <td>...</td>\n",
       "      <td>...</td>\n",
       "    </tr>\n",
       "    <tr>\n",
       "      <th>4544</th>\n",
       "      <td>Bachelors</td>\n",
       "      <td>2015</td>\n",
       "      <td>Pune</td>\n",
       "      <td>2</td>\n",
       "      <td>22</td>\n",
       "      <td>Female</td>\n",
       "      <td>No</td>\n",
       "      <td>0</td>\n",
       "      <td>1</td>\n",
       "    </tr>\n",
       "    <tr>\n",
       "      <th>4554</th>\n",
       "      <td>Bachelors</td>\n",
       "      <td>2015</td>\n",
       "      <td>Pune</td>\n",
       "      <td>3</td>\n",
       "      <td>28</td>\n",
       "      <td>Female</td>\n",
       "      <td>No</td>\n",
       "      <td>1</td>\n",
       "      <td>1</td>\n",
       "    </tr>\n",
       "    <tr>\n",
       "      <th>4610</th>\n",
       "      <td>Bachelors</td>\n",
       "      <td>2015</td>\n",
       "      <td>Pune</td>\n",
       "      <td>3</td>\n",
       "      <td>24</td>\n",
       "      <td>Female</td>\n",
       "      <td>No</td>\n",
       "      <td>2</td>\n",
       "      <td>1</td>\n",
       "    </tr>\n",
       "    <tr>\n",
       "      <th>4620</th>\n",
       "      <td>Bachelors</td>\n",
       "      <td>2015</td>\n",
       "      <td>Pune</td>\n",
       "      <td>2</td>\n",
       "      <td>38</td>\n",
       "      <td>Female</td>\n",
       "      <td>No</td>\n",
       "      <td>4</td>\n",
       "      <td>1</td>\n",
       "    </tr>\n",
       "    <tr>\n",
       "      <th>4644</th>\n",
       "      <td>Bachelors</td>\n",
       "      <td>2015</td>\n",
       "      <td>Pune</td>\n",
       "      <td>3</td>\n",
       "      <td>32</td>\n",
       "      <td>Female</td>\n",
       "      <td>Yes</td>\n",
       "      <td>1</td>\n",
       "      <td>1</td>\n",
       "    </tr>\n",
       "  </tbody>\n",
       "</table>\n",
       "<p>203 rows × 9 columns</p>\n",
       "</div>"
      ],
      "text/plain": [
       "      Education  JoiningYear  City  PaymentTier  Age  Gender EverBenched  \\\n",
       "18    Bachelors         2015  Pune            2   30  Female          No   \n",
       "51    Bachelors         2015  Pune            2   26  Female          No   \n",
       "103   Bachelors         2015  Pune            2   28  Female         Yes   \n",
       "205   Bachelors         2015  Pune            2   26  Female          No   \n",
       "224   Bachelors         2015  Pune            1   24  Female         Yes   \n",
       "...         ...          ...   ...          ...  ...     ...         ...   \n",
       "4544  Bachelors         2015  Pune            2   22  Female          No   \n",
       "4554  Bachelors         2015  Pune            3   28  Female          No   \n",
       "4610  Bachelors         2015  Pune            3   24  Female          No   \n",
       "4620  Bachelors         2015  Pune            2   38  Female          No   \n",
       "4644  Bachelors         2015  Pune            3   32  Female         Yes   \n",
       "\n",
       "      ExperienceInCurrentDomain  LeaveOrNot  \n",
       "18                            0           1  \n",
       "51                            4           1  \n",
       "103                           1           1  \n",
       "205                           4           1  \n",
       "224                           2           1  \n",
       "...                         ...         ...  \n",
       "4544                          0           1  \n",
       "4554                          1           1  \n",
       "4610                          2           1  \n",
       "4620                          4           1  \n",
       "4644                          1           1  \n",
       "\n",
       "[203 rows x 9 columns]"
      ]
     },
     "execution_count": 345,
     "metadata": {},
     "output_type": "execute_result"
    }
   ],
   "source": [
    "empl[(empl['City']=='Pune')&(empl['Gender']=='Female')&(empl['JoiningYear']==2015)&(empl['Education']=='Bachelors')]"
   ]
  },
  {
   "cell_type": "code",
   "execution_count": 349,
   "id": "34545567",
   "metadata": {
    "scrolled": true
   },
   "outputs": [
    {
     "data": {
      "image/png": "[encoded data removed]",
      "text/plain": [
       "<Figure size 720x432 with 1 Axes>"
      ]
     },
     "metadata": {
      "needs_background": "light"
     },
     "output_type": "display_data"
    }
   ],
   "source": [
    "plt.figure(figsize=(10, 6))\n",
    "\n",
    "e_pune_2015_bac['part_of_all'].plot(kind='bar')\n",
    "plt.title('Part left')\n",
    "plt.show()"
   ]
  },
  {
   "cell_type": "code",
   "execution_count": 354,
   "id": "c1cd88bd",
   "metadata": {},
   "outputs": [],
   "source": [
    "e_pune_2015_bac_2=empl[(empl['City']=='Pune')&(empl['Gender']=='Female')&(empl['JoiningYear']==2015)&(empl['Education']=='Bachelors')&(empl['PaymentTier']==2)].groupby(['EverBenched'])['LeaveOrNot'].agg(['sum', 'count'])\n",
    "e_pune_2015_bac_2['part_left']= e_pune_2015_bac_2['sum']/e_pune_2015_bac_2['count']\n",
    "e_pune_2015_bac_2['part_of_all']=e_pune_2015_bac_2['sum']/e_pune_2015_bac_2['count'].sum()"
   ]
  },
  {
   "cell_type": "code",
   "execution_count": 355,
   "id": "01207161",
   "metadata": {
    "scrolled": true
   },
   "outputs": [
    {
     "data": {
      "image/png": "[encoded data removed]",
      "text/plain": [
       "<Figure size 720x432 with 1 Axes>"
      ]
     },
     "metadata": {
      "needs_background": "light"
     },
     "output_type": "display_data"
    }
   ],
   "source": [
    "plt.figure(figsize=(10, 6))\n",
    "\n",
    "e_pune_2015_bac_2['part_of_all'].plot(kind='bar')\n",
    "plt.title('Part left')\n",
    "plt.show()"
   ]
  },
  {
   "cell_type": "markdown",
   "id": "497a1822",
   "metadata": {},
   "source": [
    "Большая часть из них бакалавры со средним уровнем зп и EverBenched = 0"
   ]
  },
  {
   "cell_type": "code",
   "execution_count": 356,
   "id": "98021199",
   "metadata": {},
   "outputs": [],
   "source": [
    "e_bang=empl[(empl['City']=='Bangalore')&(empl['Gender']=='Male')].groupby(['JoiningYear'])['LeaveOrNot'].agg(['sum', 'count'])\n",
    "e_bang['part_left']= e_bang['sum']/e_bang['count']\n",
    "e_bang['part_of_all']=e_bang['sum']/e_bang['count'].sum()"
   ]
  },
  {
   "cell_type": "code",
   "execution_count": 359,
   "id": "34f894a7",
   "metadata": {
    "scrolled": true
   },
   "outputs": [
    {
     "data": {
      "image/png": "[encoded data removed]",
      "text/plain": [
       "<Figure size 720x432 with 2 Axes>"
      ]
     },
     "metadata": {
      "needs_background": "light"
     },
     "output_type": "display_data"
    }
   ],
   "source": [
    "plt.figure(figsize=(10, 6))\n",
    "\n",
    "plt.subplot(121)\n",
    "e_bang['part_of_all'].plot(kind='bar')\n",
    "plt.suptitle('Part left')\n",
    "\n",
    "plt.subplot(122)\n",
    "e_bang['part_left'].plot(kind='bar')\n",
    "plt.suptitle('Part left')\n",
    "\n",
    "plt.show()"
   ]
  },
  {
   "cell_type": "markdown",
   "id": "0ad05fa9",
   "metadata": {},
   "source": [
    "Большинство мужчин, уволенных в Bangalore приняты в 2018 году и почти все, принятые в 2018 году в Bangalore - уволены"
   ]
  },
  {
   "cell_type": "code",
   "execution_count": 360,
   "id": "91304777",
   "metadata": {},
   "outputs": [],
   "source": [
    "e_bang_2018=empl[(empl['City']=='Bangalore')&(empl['Gender']=='Male')&(empl['JoiningYear']==2018)].groupby(['JoiningYear'])['LeaveOrNot'].agg(['sum', 'count'])\n",
    "e_bang_2018['part_left']= e_bang_2018['sum']/e_bang_2018['count']\n",
    "e_bang_2018['part_of_all']=e_bang_2018['sum']/e_bang_2018['count'].sum()"
   ]
  },
  {
   "cell_type": "code",
   "execution_count": 361,
   "id": "3d1701b2",
   "metadata": {
    "scrolled": true
   },
   "outputs": [
    {
     "data": {
      "text/html": [
       "<div>\n",
       "<style scoped>\n",
       "    .dataframe tbody tr th:only-of-type {\n",
       "        vertical-align: middle;\n",
       "    }\n",
       "\n",
       "    .dataframe tbody tr th {\n",
       "        vertical-align: top;\n",
       "    }\n",
       "\n",
       "    .dataframe thead th {\n",
       "        text-align: right;\n",
       "    }\n",
       "</style>\n",
       "<table border=\"1\" class=\"dataframe\">\n",
       "  <thead>\n",
       "    <tr style=\"text-align: right;\">\n",
       "      <th></th>\n",
       "      <th>sum</th>\n",
       "      <th>count</th>\n",
       "      <th>part_left</th>\n",
       "      <th>part_of_all</th>\n",
       "    </tr>\n",
       "    <tr>\n",
       "      <th>JoiningYear</th>\n",
       "      <th></th>\n",
       "      <th></th>\n",
       "      <th></th>\n",
       "      <th></th>\n",
       "    </tr>\n",
       "  </thead>\n",
       "  <tbody>\n",
       "    <tr>\n",
       "      <th>2018</th>\n",
       "      <td>147</td>\n",
       "      <td>150</td>\n",
       "      <td>0.98</td>\n",
       "      <td>0.98</td>\n",
       "    </tr>\n",
       "  </tbody>\n",
       "</table>\n",
       "</div>"
      ],
      "text/plain": [
       "             sum  count  part_left  part_of_all\n",
       "JoiningYear                                    \n",
       "2018         147    150       0.98         0.98"
      ]
     },
     "execution_count": 361,
     "metadata": {},
     "output_type": "execute_result"
    }
   ],
   "source": [
    "e_bang_2018"
   ]
  },
  {
   "cell_type": "markdown",
   "id": "f468cd94",
   "metadata": {},
   "source": [
    "Посмотрим распределение уволенных по годам приема"
   ]
  },
  {
   "cell_type": "code",
   "execution_count": 371,
   "id": "fc3c6cb8",
   "metadata": {},
   "outputs": [
    {
     "name": "stdout",
     "output_type": "stream",
     "text": [
      "<class 'pandas.core.frame.DataFrame'>\n",
      "RangeIndex: 4653 entries, 0 to 4652\n",
      "Data columns (total 9 columns):\n",
      " #   Column                     Non-Null Count  Dtype \n",
      "---  ------                     --------------  ----- \n",
      " 0   Education                  4653 non-null   object\n",
      " 1   JoiningYear                4653 non-null   int64 \n",
      " 2   City                       4653 non-null   object\n",
      " 3   PaymentTier                4653 non-null   int64 \n",
      " 4   Age                        4653 non-null   int64 \n",
      " 5   Gender                     4653 non-null   object\n",
      " 6   EverBenched                4653 non-null   object\n",
      " 7   ExperienceInCurrentDomain  4653 non-null   int64 \n",
      " 8   LeaveOrNot                 4653 non-null   int64 \n",
      "dtypes: int64(5), object(4)\n",
      "memory usage: 327.3+ KB\n"
     ]
    }
   ],
   "source": [
    "empl.info()"
   ]
  },
  {
   "cell_type": "code",
   "execution_count": 365,
   "id": "192ef417",
   "metadata": {
    "scrolled": true
   },
   "outputs": [],
   "source": [
    "by_join_years=empl.groupby(['JoiningYear'])['LeaveOrNot'].agg(['sum', 'count'])\n",
    "by_join_years['part_left']= by_join_years['sum']/by_join_years['count']\n",
    "by_join_years['part_of_all']=by_join_years['sum']/by_join_years['count'].sum()"
   ]
  },
  {
   "cell_type": "code",
   "execution_count": 375,
   "id": "181aa94b",
   "metadata": {},
   "outputs": [
    {
     "data": {
      "text/html": [
       "<div>\n",
       "<style scoped>\n",
       "    .dataframe tbody tr th:only-of-type {\n",
       "        vertical-align: middle;\n",
       "    }\n",
       "\n",
       "    .dataframe tbody tr th {\n",
       "        vertical-align: top;\n",
       "    }\n",
       "\n",
       "    .dataframe thead th {\n",
       "        text-align: right;\n",
       "    }\n",
       "</style>\n",
       "<table border=\"1\" class=\"dataframe\">\n",
       "  <thead>\n",
       "    <tr style=\"text-align: right;\">\n",
       "      <th></th>\n",
       "      <th>sum</th>\n",
       "      <th>count</th>\n",
       "      <th>part_left</th>\n",
       "      <th>part_of_all</th>\n",
       "    </tr>\n",
       "    <tr>\n",
       "      <th>JoiningYear</th>\n",
       "      <th></th>\n",
       "      <th></th>\n",
       "      <th></th>\n",
       "      <th></th>\n",
       "    </tr>\n",
       "  </thead>\n",
       "  <tbody>\n",
       "    <tr>\n",
       "      <th>2012</th>\n",
       "      <td>109</td>\n",
       "      <td>504</td>\n",
       "      <td>0.216270</td>\n",
       "      <td>0.023426</td>\n",
       "    </tr>\n",
       "    <tr>\n",
       "      <th>2013</th>\n",
       "      <td>224</td>\n",
       "      <td>669</td>\n",
       "      <td>0.334828</td>\n",
       "      <td>0.048141</td>\n",
       "    </tr>\n",
       "    <tr>\n",
       "      <th>2014</th>\n",
       "      <td>173</td>\n",
       "      <td>699</td>\n",
       "      <td>0.247496</td>\n",
       "      <td>0.037180</td>\n",
       "    </tr>\n",
       "    <tr>\n",
       "      <th>2015</th>\n",
       "      <td>318</td>\n",
       "      <td>781</td>\n",
       "      <td>0.407170</td>\n",
       "      <td>0.068343</td>\n",
       "    </tr>\n",
       "    <tr>\n",
       "      <th>2016</th>\n",
       "      <td>117</td>\n",
       "      <td>525</td>\n",
       "      <td>0.222857</td>\n",
       "      <td>0.025145</td>\n",
       "    </tr>\n",
       "    <tr>\n",
       "      <th>2017</th>\n",
       "      <td>297</td>\n",
       "      <td>1108</td>\n",
       "      <td>0.268051</td>\n",
       "      <td>0.063830</td>\n",
       "    </tr>\n",
       "    <tr>\n",
       "      <th>2018</th>\n",
       "      <td>362</td>\n",
       "      <td>367</td>\n",
       "      <td>0.986376</td>\n",
       "      <td>0.077799</td>\n",
       "    </tr>\n",
       "  </tbody>\n",
       "</table>\n",
       "</div>"
      ],
      "text/plain": [
       "             sum  count  part_left  part_of_all\n",
       "JoiningYear                                    \n",
       "2012         109    504   0.216270     0.023426\n",
       "2013         224    669   0.334828     0.048141\n",
       "2014         173    699   0.247496     0.037180\n",
       "2015         318    781   0.407170     0.068343\n",
       "2016         117    525   0.222857     0.025145\n",
       "2017         297   1108   0.268051     0.063830\n",
       "2018         362    367   0.986376     0.077799"
      ]
     },
     "execution_count": 375,
     "metadata": {},
     "output_type": "execute_result"
    }
   ],
   "source": [
    "by_join_years"
   ]
  },
  {
   "cell_type": "code",
   "execution_count": 384,
   "id": "dfbee86e",
   "metadata": {
    "scrolled": true
   },
   "outputs": [
    {
     "data": {
      "image/png": "[encoded data removed]",
      "text/plain": [
       "<Figure size 720x432 with 2 Axes>"
      ]
     },
     "metadata": {
      "needs_background": "light"
     },
     "output_type": "display_data"
    }
   ],
   "source": [
    "plt.figure(figsize=(10, 6))\n",
    "\n",
    "plt.subplot(121)\n",
    "by_join_years['part_of_all'].plot(kind='bar')\n",
    "plt.title('part of all')\n",
    "\n",
    "\n",
    "plt.subplot(122)\n",
    "by_join_years['part_left'].plot(kind='bar')\n",
    "plt.title('Part left')\n",
    "\n",
    "plt.show()"
   ]
  },
  {
   "cell_type": "markdown",
   "id": "f8a27c78",
   "metadata": {},
   "source": [
    "Почти все из принятх в 2018 - уволились"
   ]
  },
  {
   "cell_type": "code",
   "execution_count": 475,
   "id": "79f24bc5",
   "metadata": {},
   "outputs": [],
   "source": [
    "#empl_2=empl[empl['JoiningYear']!=2018]\n",
    "by_gender=empl.groupby(['City','Gender','Education'],as_index=False)[['LeaveOrNot']].agg(['sum','count'])#.unstack(['Gender'])\n",
    "by_gender['part_left']= by_gender['LeaveOrNot', 'sum']/by_gender['LeaveOrNot', 'count']\n",
    "by_gender['part_of_all_left']=by_gender['LeaveOrNot', 'sum']/by_gender['LeaveOrNot', 'count'].sum()\n",
    "by_gender['part_of_all']=by_gender['LeaveOrNot', 'count']/by_gender['LeaveOrNot', 'count'].sum()"
   ]
  },
  {
   "cell_type": "code",
   "execution_count": 472,
   "id": "89635fd2",
   "metadata": {
    "scrolled": true
   },
   "outputs": [
    {
     "data": {
      "text/plain": [
       "MultiIndex([( 'LeaveOrNot',   'sum'),\n",
       "            ( 'LeaveOrNot', 'count'),\n",
       "            (  'part_left',      ''),\n",
       "            ('part_of_all',      '')],\n",
       "           )"
      ]
     },
     "execution_count": 472,
     "metadata": {},
     "output_type": "execute_result"
    }
   ],
   "source": [
    "by_gender.columns\n",
    "\n"
   ]
  },
  {
   "cell_type": "code",
   "execution_count": 476,
   "id": "e574881c",
   "metadata": {
    "scrolled": true
   },
   "outputs": [
    {
     "data": {
      "text/html": [
       "<style type=\"text/css\">\n",
       "#T_81091_row0_col0, #T_81091_row0_col3 {\n",
       "  width: 10em;\n",
       "  background: linear-gradient(90deg, transparent 50.0%, #d65f5f 50.0%, #d65f5f 67.2%, transparent 67.2%);\n",
       "}\n",
       "#T_81091_row0_col1, #T_81091_row0_col4 {\n",
       "  width: 10em;\n",
       "  background: linear-gradient(90deg, transparent 50.0%, #d65f5f 50.0%, #d65f5f 70.2%, transparent 70.2%);\n",
       "}\n",
       "#T_81091_row0_col2 {\n",
       "  width: 10em;\n",
       "  background: linear-gradient(90deg, transparent 50.0%, #d65f5f 50.0%, #d65f5f 64.1%, transparent 64.1%);\n",
       "}\n",
       "#T_81091_row1_col0, #T_81091_row1_col3 {\n",
       "  width: 10em;\n",
       "  background: linear-gradient(90deg, transparent 50.0%, #d65f5f 50.0%, #d65f5f 54.2%, transparent 54.2%);\n",
       "}\n",
       "#T_81091_row1_col1, #T_81091_row1_col4 {\n",
       "  width: 10em;\n",
       "  background: linear-gradient(90deg, transparent 50.0%, #d65f5f 50.0%, #d65f5f 51.8%, transparent 51.8%);\n",
       "}\n",
       "#T_81091_row1_col2 {\n",
       "  width: 10em;\n",
       "  background: linear-gradient(90deg, transparent 50.0%, #d65f5f 50.0%, #d65f5f 87.4%, transparent 87.4%);\n",
       "}\n",
       "#T_81091_row2_col0, #T_81091_row2_col3, #T_81091_row14_col0, #T_81091_row14_col1, #T_81091_row14_col3, #T_81091_row14_col4 {\n",
       "  width: 10em;\n",
       "  background: linear-gradient(90deg, transparent 50.0%, #d65f5f 50.0%, #d65f5f 50.3%, transparent 50.3%);\n",
       "}\n",
       "#T_81091_row2_col1, #T_81091_row2_col4, #T_81091_row17_col1, #T_81091_row17_col4 {\n",
       "  width: 10em;\n",
       "  background: linear-gradient(90deg, transparent 50.0%, #d65f5f 50.0%, #d65f5f 50.5%, transparent 50.5%);\n",
       "}\n",
       "#T_81091_row2_col2 {\n",
       "  width: 10em;\n",
       "  background: linear-gradient(90deg, transparent 50.0%, #d65f5f 50.0%, #d65f5f 61.4%, transparent 61.4%);\n",
       "}\n",
       "#T_81091_row3_col0, #T_81091_row3_col3 {\n",
       "  width: 10em;\n",
       "  background: linear-gradient(90deg, transparent 50.0%, #d65f5f 50.0%, #d65f5f 86.8%, transparent 86.8%);\n",
       "}\n",
       "#T_81091_row3_col1, #T_81091_row3_col4, #T_81091_row12_col0, #T_81091_row12_col2, #T_81091_row12_col3 {\n",
       "  width: 10em;\n",
       "  background: linear-gradient(90deg, transparent 50.0%, #d65f5f 50.0%, #d65f5f 100.0%, transparent 100.0%);\n",
       "}\n",
       "#T_81091_row3_col2 {\n",
       "  width: 10em;\n",
       "  background: linear-gradient(90deg, transparent 50.0%, #d65f5f 50.0%, #d65f5f 62.2%, transparent 62.2%);\n",
       "}\n",
       "#T_81091_row4_col0, #T_81091_row4_col3 {\n",
       "  width: 10em;\n",
       "  background: linear-gradient(90deg, transparent 50.0%, #d65f5f 50.0%, #d65f5f 55.4%, transparent 55.4%);\n",
       "}\n",
       "#T_81091_row4_col1, #T_81091_row4_col4 {\n",
       "  width: 10em;\n",
       "  background: linear-gradient(90deg, transparent 50.0%, #d65f5f 50.0%, #d65f5f 52.4%, transparent 52.4%);\n",
       "}\n",
       "#T_81091_row4_col2 {\n",
       "  width: 10em;\n",
       "  background: linear-gradient(90deg, transparent 50.0%, #d65f5f 50.0%, #d65f5f 87.2%, transparent 87.2%);\n",
       "}\n",
       "#T_81091_row5_col0, #T_81091_row5_col1, #T_81091_row5_col3, #T_81091_row5_col4, #T_81091_row8_col0, #T_81091_row8_col3 {\n",
       "  width: 10em;\n",
       "  background: linear-gradient(90deg, transparent 50.0%, #d65f5f 50.0%, #d65f5f 51.3%, transparent 51.3%);\n",
       "}\n",
       "#T_81091_row5_col2 {\n",
       "  width: 10em;\n",
       "  background: linear-gradient(90deg, transparent 50.0%, #d65f5f 50.0%, #d65f5f 66.8%, transparent 66.8%);\n",
       "}\n",
       "#T_81091_row6_col0, #T_81091_row6_col3 {\n",
       "  width: 10em;\n",
       "  background: linear-gradient(90deg, transparent 50.0%, #d65f5f 50.0%, #d65f5f 59.2%, transparent 59.2%);\n",
       "}\n",
       "#T_81091_row6_col1, #T_81091_row6_col4 {\n",
       "  width: 10em;\n",
       "  background: linear-gradient(90deg, transparent 50.0%, #d65f5f 50.0%, #d65f5f 62.3%, transparent 62.3%);\n",
       "}\n",
       "#T_81091_row6_col2 {\n",
       "  width: 10em;\n",
       "  background: linear-gradient(90deg, transparent 50.0%, #d65f5f 50.0%, #d65f5f 62.5%, transparent 62.5%);\n",
       "}\n",
       "#T_81091_row7_col0, #T_81091_row7_col3 {\n",
       "  width: 10em;\n",
       "  background: linear-gradient(90deg, transparent 50.0%, #d65f5f 50.0%, #d65f5f 60.8%, transparent 60.8%);\n",
       "}\n",
       "#T_81091_row7_col1, #T_81091_row7_col4 {\n",
       "  width: 10em;\n",
       "  background: linear-gradient(90deg, transparent 50.0%, #d65f5f 50.0%, #d65f5f 57.4%, transparent 57.4%);\n",
       "}\n",
       "#T_81091_row7_col2 {\n",
       "  width: 10em;\n",
       "  background: linear-gradient(90deg, transparent 50.0%, #d65f5f 50.0%, #d65f5f 74.4%, transparent 74.4%);\n",
       "}\n",
       "#T_81091_row8_col1, #T_81091_row8_col4 {\n",
       "  width: 10em;\n",
       "  background: linear-gradient(90deg, transparent 50.0%, #d65f5f 50.0%, #d65f5f 51.6%, transparent 51.6%);\n",
       "}\n",
       "#T_81091_row8_col2 {\n",
       "  width: 10em;\n",
       "  background: linear-gradient(90deg, transparent 50.0%, #d65f5f 50.0%, #d65f5f 63.9%, transparent 63.9%);\n",
       "}\n",
       "#T_81091_row9_col0, #T_81091_row9_col3 {\n",
       "  width: 10em;\n",
       "  background: linear-gradient(90deg, transparent 50.0%, #d65f5f 50.0%, #d65f5f 51.4%, transparent 51.4%);\n",
       "}\n",
       "#T_81091_row9_col1, #T_81091_row9_col4 {\n",
       "  width: 10em;\n",
       "  background: linear-gradient(90deg, transparent 50.0%, #d65f5f 50.0%, #d65f5f 56.1%, transparent 56.1%);\n",
       "}\n",
       "#T_81091_row9_col2 {\n",
       "  width: 10em;\n",
       "  background: linear-gradient(90deg, transparent 50.0%, #d65f5f 50.0%, #d65f5f 53.9%, transparent 53.9%);\n",
       "}\n",
       "#T_81091_row10_col0, #T_81091_row10_col3 {\n",
       "  width: 10em;\n",
       "  background: linear-gradient(90deg, transparent 50.0%, #d65f5f 50.0%, #d65f5f 65.8%, transparent 65.8%);\n",
       "}\n",
       "#T_81091_row10_col1, #T_81091_row10_col4 {\n",
       "  width: 10em;\n",
       "  background: linear-gradient(90deg, transparent 50.0%, #d65f5f 50.0%, #d65f5f 60.3%, transparent 60.3%);\n",
       "}\n",
       "#T_81091_row10_col2 {\n",
       "  width: 10em;\n",
       "  background: linear-gradient(90deg, transparent 50.0%, #d65f5f 50.0%, #d65f5f 75.4%, transparent 75.4%);\n",
       "}\n",
       "#T_81091_row11_col0, #T_81091_row11_col3 {\n",
       "  width: 10em;\n",
       "  background: linear-gradient(90deg, transparent 50.0%, #d65f5f 50.0%, #d65f5f 51.5%, transparent 51.5%);\n",
       "}\n",
       "#T_81091_row11_col1, #T_81091_row11_col4 {\n",
       "  width: 10em;\n",
       "  background: linear-gradient(90deg, transparent 50.0%, #d65f5f 50.0%, #d65f5f 52.0%, transparent 52.0%);\n",
       "}\n",
       "#T_81091_row11_col2 {\n",
       "  width: 10em;\n",
       "  background: linear-gradient(90deg, transparent 50.0%, #d65f5f 50.0%, #d65f5f 63.1%, transparent 63.1%);\n",
       "}\n",
       "#T_81091_row12_col1, #T_81091_row12_col4 {\n",
       "  width: 10em;\n",
       "  background: linear-gradient(90deg, transparent 50.0%, #d65f5f 50.0%, #d65f5f 66.6%, transparent 66.6%);\n",
       "}\n",
       "#T_81091_row13_col0, #T_81091_row13_col3 {\n",
       "  width: 10em;\n",
       "  background: linear-gradient(90deg, transparent 50.0%, #d65f5f 50.0%, #d65f5f 53.4%, transparent 53.4%);\n",
       "}\n",
       "#T_81091_row13_col1, #T_81091_row13_col4, #T_81091_row17_col2 {\n",
       "  width: 10em;\n",
       "  background: linear-gradient(90deg, transparent 50.0%, #d65f5f 50.0%, #d65f5f 53.5%, transparent 53.5%);\n",
       "}\n",
       "#T_81091_row13_col2 {\n",
       "  width: 10em;\n",
       "  background: linear-gradient(90deg, transparent 50.0%, #d65f5f 50.0%, #d65f5f 66.3%, transparent 66.3%);\n",
       "}\n",
       "#T_81091_row14_col2 {\n",
       "  width: 10em;\n",
       "  background: linear-gradient(90deg, transparent 50.0%, #d65f5f 50.0%, #d65f5f 67.7%, transparent 67.7%);\n",
       "}\n",
       "#T_81091_row15_col0, #T_81091_row15_col3 {\n",
       "  width: 10em;\n",
       "  background: linear-gradient(90deg, transparent 50.0%, #d65f5f 50.0%, #d65f5f 59.0%, transparent 59.0%);\n",
       "}\n",
       "#T_81091_row15_col1, #T_81091_row15_col4 {\n",
       "  width: 10em;\n",
       "  background: linear-gradient(90deg, transparent 50.0%, #d65f5f 50.0%, #d65f5f 68.0%, transparent 68.0%);\n",
       "}\n",
       "#T_81091_row15_col2 {\n",
       "  width: 10em;\n",
       "  background: linear-gradient(90deg, transparent 50.0%, #d65f5f 50.0%, #d65f5f 58.3%, transparent 58.3%);\n",
       "}\n",
       "#T_81091_row16_col0, #T_81091_row16_col3 {\n",
       "  width: 10em;\n",
       "  background: linear-gradient(90deg, transparent 50.0%, #d65f5f 50.0%, #d65f5f 57.1%, transparent 57.1%);\n",
       "}\n",
       "#T_81091_row16_col1, #T_81091_row16_col4 {\n",
       "  width: 10em;\n",
       "  background: linear-gradient(90deg, transparent 50.0%, #d65f5f 50.0%, #d65f5f 54.5%, transparent 54.5%);\n",
       "}\n",
       "#T_81091_row16_col2 {\n",
       "  width: 10em;\n",
       "  background: linear-gradient(90deg, transparent 50.0%, #d65f5f 50.0%, #d65f5f 76.4%, transparent 76.4%);\n",
       "}\n",
       "#T_81091_row17_col0, #T_81091_row17_col3 {\n",
       "  width: 10em;\n",
       "  background: linear-gradient(90deg, transparent 50.0%, #d65f5f 50.0%, #d65f5f 50.1%, transparent 50.1%);\n",
       "}\n",
       "</style>\n",
       "<table id=\"T_81091\">\n",
       "  <thead>\n",
       "    <tr>\n",
       "      <th class=\"blank\" >&nbsp;</th>\n",
       "      <th class=\"blank\" >&nbsp;</th>\n",
       "      <th class=\"blank level0\" >&nbsp;</th>\n",
       "      <th id=\"T_81091_level0_col0\" class=\"col_heading level0 col0\" colspan=\"2\">LeaveOrNot</th>\n",
       "      <th id=\"T_81091_level0_col2\" class=\"col_heading level0 col2\" >part_left</th>\n",
       "      <th id=\"T_81091_level0_col3\" class=\"col_heading level0 col3\" >part_of_all_left</th>\n",
       "      <th id=\"T_81091_level0_col4\" class=\"col_heading level0 col4\" >part_of_all</th>\n",
       "    </tr>\n",
       "    <tr>\n",
       "      <th class=\"blank\" >&nbsp;</th>\n",
       "      <th class=\"blank\" >&nbsp;</th>\n",
       "      <th class=\"blank level1\" >&nbsp;</th>\n",
       "      <th id=\"T_81091_level1_col0\" class=\"col_heading level1 col0\" >sum</th>\n",
       "      <th id=\"T_81091_level1_col1\" class=\"col_heading level1 col1\" >count</th>\n",
       "      <th id=\"T_81091_level1_col2\" class=\"col_heading level1 col2\" ></th>\n",
       "      <th id=\"T_81091_level1_col3\" class=\"col_heading level1 col3\" ></th>\n",
       "      <th id=\"T_81091_level1_col4\" class=\"col_heading level1 col4\" ></th>\n",
       "    </tr>\n",
       "    <tr>\n",
       "      <th class=\"index_name level0\" >City</th>\n",
       "      <th class=\"index_name level1\" >Gender</th>\n",
       "      <th class=\"index_name level2\" >Education</th>\n",
       "      <th class=\"blank col0\" >&nbsp;</th>\n",
       "      <th class=\"blank col1\" >&nbsp;</th>\n",
       "      <th class=\"blank col2\" >&nbsp;</th>\n",
       "      <th class=\"blank col3\" >&nbsp;</th>\n",
       "      <th class=\"blank col4\" >&nbsp;</th>\n",
       "    </tr>\n",
       "  </thead>\n",
       "  <tbody>\n",
       "    <tr>\n",
       "      <th id=\"T_81091_level0_row0\" class=\"row_heading level0 row0\" rowspan=\"6\">Bangalore</th>\n",
       "      <th id=\"T_81091_level1_row0\" class=\"row_heading level1 row0\" rowspan=\"3\">Female</th>\n",
       "      <th id=\"T_81091_level2_row0\" class=\"row_heading level2 row0\" >Bachelors</th>\n",
       "      <td id=\"T_81091_row0_col0\" class=\"data row0 col0\" >157</td>\n",
       "      <td id=\"T_81091_row0_col1\" class=\"data row0 col1\" >591</td>\n",
       "      <td id=\"T_81091_row0_col2\" class=\"data row0 col2\" >0.265651</td>\n",
       "      <td id=\"T_81091_row0_col3\" class=\"data row0 col3\" >0.033742</td>\n",
       "      <td id=\"T_81091_row0_col4\" class=\"data row0 col4\" >0.127015</td>\n",
       "    </tr>\n",
       "    <tr>\n",
       "      <th id=\"T_81091_level2_row1\" class=\"row_heading level2 row1\" >Masters</th>\n",
       "      <td id=\"T_81091_row1_col0\" class=\"data row1 col0\" >38</td>\n",
       "      <td id=\"T_81091_row1_col1\" class=\"data row1 col1\" >54</td>\n",
       "      <td id=\"T_81091_row1_col2\" class=\"data row1 col2\" >0.703704</td>\n",
       "      <td id=\"T_81091_row1_col3\" class=\"data row1 col3\" >0.008167</td>\n",
       "      <td id=\"T_81091_row1_col4\" class=\"data row1 col4\" >0.011605</td>\n",
       "    </tr>\n",
       "    <tr>\n",
       "      <th id=\"T_81091_level2_row2\" class=\"row_heading level2 row2\" >PHD</th>\n",
       "      <td id=\"T_81091_row2_col0\" class=\"data row2 col0\" >3</td>\n",
       "      <td id=\"T_81091_row2_col1\" class=\"data row2 col1\" >14</td>\n",
       "      <td id=\"T_81091_row2_col2\" class=\"data row2 col2\" >0.214286</td>\n",
       "      <td id=\"T_81091_row2_col3\" class=\"data row2 col3\" >0.000645</td>\n",
       "      <td id=\"T_81091_row2_col4\" class=\"data row2 col4\" >0.003009</td>\n",
       "    </tr>\n",
       "    <tr>\n",
       "      <th id=\"T_81091_level1_row3\" class=\"row_heading level1 row3\" rowspan=\"3\">Male</th>\n",
       "      <th id=\"T_81091_level2_row3\" class=\"row_heading level2 row3\" >Bachelors</th>\n",
       "      <td id=\"T_81091_row3_col0\" class=\"data row3 col0\" >336</td>\n",
       "      <td id=\"T_81091_row3_col1\" class=\"data row3 col1\" >1461</td>\n",
       "      <td id=\"T_81091_row3_col2\" class=\"data row3 col2\" >0.229979</td>\n",
       "      <td id=\"T_81091_row3_col3\" class=\"data row3 col3\" >0.072211</td>\n",
       "      <td id=\"T_81091_row3_col4\" class=\"data row3 col4\" >0.313991</td>\n",
       "    </tr>\n",
       "    <tr>\n",
       "      <th id=\"T_81091_level2_row4\" class=\"row_heading level2 row4\" >Masters</th>\n",
       "      <td id=\"T_81091_row4_col0\" class=\"data row4 col0\" >49</td>\n",
       "      <td id=\"T_81091_row4_col1\" class=\"data row4 col1\" >70</td>\n",
       "      <td id=\"T_81091_row4_col2\" class=\"data row4 col2\" >0.700000</td>\n",
       "      <td id=\"T_81091_row4_col3\" class=\"data row4 col3\" >0.010531</td>\n",
       "      <td id=\"T_81091_row4_col4\" class=\"data row4 col4\" >0.015044</td>\n",
       "    </tr>\n",
       "    <tr>\n",
       "      <th id=\"T_81091_level2_row5\" class=\"row_heading level2 row5\" >PHD</th>\n",
       "      <td id=\"T_81091_row5_col0\" class=\"data row5 col0\" >12</td>\n",
       "      <td id=\"T_81091_row5_col1\" class=\"data row5 col1\" >38</td>\n",
       "      <td id=\"T_81091_row5_col2\" class=\"data row5 col2\" >0.315789</td>\n",
       "      <td id=\"T_81091_row5_col3\" class=\"data row5 col3\" >0.002579</td>\n",
       "      <td id=\"T_81091_row5_col4\" class=\"data row5 col4\" >0.008167</td>\n",
       "    </tr>\n",
       "    <tr>\n",
       "      <th id=\"T_81091_level0_row6\" class=\"row_heading level0 row6\" rowspan=\"6\">New Delhi</th>\n",
       "      <th id=\"T_81091_level1_row6\" class=\"row_heading level1 row6\" rowspan=\"3\">Female</th>\n",
       "      <th id=\"T_81091_level2_row6\" class=\"row_heading level2 row6\" >Bachelors</th>\n",
       "      <td id=\"T_81091_row6_col0\" class=\"data row6 col0\" >84</td>\n",
       "      <td id=\"T_81091_row6_col1\" class=\"data row6 col1\" >358</td>\n",
       "      <td id=\"T_81091_row6_col2\" class=\"data row6 col2\" >0.234637</td>\n",
       "      <td id=\"T_81091_row6_col3\" class=\"data row6 col3\" >0.018053</td>\n",
       "      <td id=\"T_81091_row6_col4\" class=\"data row6 col4\" >0.076940</td>\n",
       "    </tr>\n",
       "    <tr>\n",
       "      <th id=\"T_81091_level2_row7\" class=\"row_heading level2 row7\" >Masters</th>\n",
       "      <td id=\"T_81091_row7_col0\" class=\"data row7 col0\" >99</td>\n",
       "      <td id=\"T_81091_row7_col1\" class=\"data row7 col1\" >216</td>\n",
       "      <td id=\"T_81091_row7_col2\" class=\"data row7 col2\" >0.458333</td>\n",
       "      <td id=\"T_81091_row7_col3\" class=\"data row7 col3\" >0.021277</td>\n",
       "      <td id=\"T_81091_row7_col4\" class=\"data row7 col4\" >0.046422</td>\n",
       "    </tr>\n",
       "    <tr>\n",
       "      <th id=\"T_81091_level2_row8\" class=\"row_heading level2 row8\" >PHD</th>\n",
       "      <td id=\"T_81091_row8_col0\" class=\"data row8 col0\" >12</td>\n",
       "      <td id=\"T_81091_row8_col1\" class=\"data row8 col1\" >46</td>\n",
       "      <td id=\"T_81091_row8_col2\" class=\"data row8 col2\" >0.260870</td>\n",
       "      <td id=\"T_81091_row8_col3\" class=\"data row8 col3\" >0.002579</td>\n",
       "      <td id=\"T_81091_row8_col4\" class=\"data row8 col4\" >0.009886</td>\n",
       "    </tr>\n",
       "    <tr>\n",
       "      <th id=\"T_81091_level1_row9\" class=\"row_heading level1 row9\" rowspan=\"3\">Male</th>\n",
       "      <th id=\"T_81091_level2_row9\" class=\"row_heading level2 row9\" >Bachelors</th>\n",
       "      <td id=\"T_81091_row9_col0\" class=\"data row9 col0\" >13</td>\n",
       "      <td id=\"T_81091_row9_col1\" class=\"data row9 col1\" >179</td>\n",
       "      <td id=\"T_81091_row9_col2\" class=\"data row9 col2\" >0.072626</td>\n",
       "      <td id=\"T_81091_row9_col3\" class=\"data row9 col3\" >0.002794</td>\n",
       "      <td id=\"T_81091_row9_col4\" class=\"data row9 col4\" >0.038470</td>\n",
       "    </tr>\n",
       "    <tr>\n",
       "      <th id=\"T_81091_level2_row10\" class=\"row_heading level2 row10\" >Masters</th>\n",
       "      <td id=\"T_81091_row10_col0\" class=\"data row10 col0\" >144</td>\n",
       "      <td id=\"T_81091_row10_col1\" class=\"data row10 col1\" >301</td>\n",
       "      <td id=\"T_81091_row10_col2\" class=\"data row10 col2\" >0.478405</td>\n",
       "      <td id=\"T_81091_row10_col3\" class=\"data row10 col3\" >0.030948</td>\n",
       "      <td id=\"T_81091_row10_col4\" class=\"data row10 col4\" >0.064689</td>\n",
       "    </tr>\n",
       "    <tr>\n",
       "      <th id=\"T_81091_level2_row11\" class=\"row_heading level2 row11\" >PHD</th>\n",
       "      <td id=\"T_81091_row11_col0\" class=\"data row11 col0\" >14</td>\n",
       "      <td id=\"T_81091_row11_col1\" class=\"data row11 col1\" >57</td>\n",
       "      <td id=\"T_81091_row11_col2\" class=\"data row11 col2\" >0.245614</td>\n",
       "      <td id=\"T_81091_row11_col3\" class=\"data row11 col3\" >0.003009</td>\n",
       "      <td id=\"T_81091_row11_col4\" class=\"data row11 col4\" >0.012250</td>\n",
       "    </tr>\n",
       "    <tr>\n",
       "      <th id=\"T_81091_level0_row12\" class=\"row_heading level0 row12\" rowspan=\"6\">Pune</th>\n",
       "      <th id=\"T_81091_level1_row12\" class=\"row_heading level1 row12\" rowspan=\"3\">Female</th>\n",
       "      <th id=\"T_81091_level2_row12\" class=\"row_heading level2 row12\" >Bachelors</th>\n",
       "      <td id=\"T_81091_row12_col0\" class=\"data row12 col0\" >457</td>\n",
       "      <td id=\"T_81091_row12_col1\" class=\"data row12 col1\" >486</td>\n",
       "      <td id=\"T_81091_row12_col2\" class=\"data row12 col2\" >0.940329</td>\n",
       "      <td id=\"T_81091_row12_col3\" class=\"data row12 col3\" >0.098216</td>\n",
       "      <td id=\"T_81091_row12_col4\" class=\"data row12 col4\" >0.104449</td>\n",
       "    </tr>\n",
       "    <tr>\n",
       "      <th id=\"T_81091_level2_row13\" class=\"row_heading level2 row13\" >Masters</th>\n",
       "      <td id=\"T_81091_row13_col0\" class=\"data row13 col0\" >31</td>\n",
       "      <td id=\"T_81091_row13_col1\" class=\"data row13 col1\" >101</td>\n",
       "      <td id=\"T_81091_row13_col2\" class=\"data row13 col2\" >0.306931</td>\n",
       "      <td id=\"T_81091_row13_col3\" class=\"data row13 col3\" >0.006662</td>\n",
       "      <td id=\"T_81091_row13_col4\" class=\"data row13 col4\" >0.021706</td>\n",
       "    </tr>\n",
       "    <tr>\n",
       "      <th id=\"T_81091_level2_row14\" class=\"row_heading level2 row14\" >PHD</th>\n",
       "      <td id=\"T_81091_row14_col0\" class=\"data row14 col0\" >3</td>\n",
       "      <td id=\"T_81091_row14_col1\" class=\"data row14 col1\" >9</td>\n",
       "      <td id=\"T_81091_row14_col2\" class=\"data row14 col2\" >0.333333</td>\n",
       "      <td id=\"T_81091_row14_col3\" class=\"data row14 col3\" >0.000645</td>\n",
       "      <td id=\"T_81091_row14_col4\" class=\"data row14 col4\" >0.001934</td>\n",
       "    </tr>\n",
       "    <tr>\n",
       "      <th id=\"T_81091_level1_row15\" class=\"row_heading level1 row15\" rowspan=\"3\">Male</th>\n",
       "      <th id=\"T_81091_level2_row15\" class=\"row_heading level2 row15\" >Bachelors</th>\n",
       "      <td id=\"T_81091_row15_col0\" class=\"data row15 col0\" >82</td>\n",
       "      <td id=\"T_81091_row15_col1\" class=\"data row15 col1\" >526</td>\n",
       "      <td id=\"T_81091_row15_col2\" class=\"data row15 col2\" >0.155894</td>\n",
       "      <td id=\"T_81091_row15_col3\" class=\"data row15 col3\" >0.017623</td>\n",
       "      <td id=\"T_81091_row15_col4\" class=\"data row15 col4\" >0.113045</td>\n",
       "    </tr>\n",
       "    <tr>\n",
       "      <th id=\"T_81091_level2_row16\" class=\"row_heading level2 row16\" >Masters</th>\n",
       "      <td id=\"T_81091_row16_col0\" class=\"data row16 col0\" >65</td>\n",
       "      <td id=\"T_81091_row16_col1\" class=\"data row16 col1\" >131</td>\n",
       "      <td id=\"T_81091_row16_col2\" class=\"data row16 col2\" >0.496183</td>\n",
       "      <td id=\"T_81091_row16_col3\" class=\"data row16 col3\" >0.013969</td>\n",
       "      <td id=\"T_81091_row16_col4\" class=\"data row16 col4\" >0.028154</td>\n",
       "    </tr>\n",
       "    <tr>\n",
       "      <th id=\"T_81091_level2_row17\" class=\"row_heading level2 row17\" >PHD</th>\n",
       "      <td id=\"T_81091_row17_col0\" class=\"data row17 col0\" >1</td>\n",
       "      <td id=\"T_81091_row17_col1\" class=\"data row17 col1\" >15</td>\n",
       "      <td id=\"T_81091_row17_col2\" class=\"data row17 col2\" >0.066667</td>\n",
       "      <td id=\"T_81091_row17_col3\" class=\"data row17 col3\" >0.000215</td>\n",
       "      <td id=\"T_81091_row17_col4\" class=\"data row17 col4\" >0.003224</td>\n",
       "    </tr>\n",
       "  </tbody>\n",
       "</table>\n"
      ],
      "text/plain": [
       "<pandas.io.formats.style.Styler at 0x7fa8e40617f0>"
      ]
     },
     "execution_count": 476,
     "metadata": {},
     "output_type": "execute_result"
    }
   ],
   "source": [
    "by_gender.style.bar(align='zero') "
   ]
  },
  {
   "cell_type": "markdown",
   "id": "7c82ce67",
   "metadata": {},
   "source": [
    "Около 30% сотрудников-мужчин бакалавров - в Bangalore\n",
    "Почти все женщины-бакалавры увольняются из Pune\n"
   ]
  }
 ],
 "metadata": {
  "kernelspec": {
   "display_name": "Python 3 (ipykernel)",
   "language": "python",
   "name": "python3"
  },
  "language_info": {
   "codemirror_mode": {
    "name": "ipython",
    "version": 3
   },
   "file_extension": ".py",
   "mimetype": "text/x-python",
   "name": "python",
   "nbconvert_exporter": "python",
   "pygments_lexer": "ipython3",
   "version": "3.9.12"
  }
 },
 "nbformat": 4,
 "nbformat_minor": 5
}
