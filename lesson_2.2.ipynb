{
 "cells": [
  {
   "cell_type": "code",
   "execution_count": 2,
   "id": "71d93211",
   "metadata": {},
   "outputs": [],
   "source": [
    "import pandas as pd"
   ]
  },
  {
   "cell_type": "code",
   "execution_count": 5,
   "id": "2f5ba681",
   "metadata": {},
   "outputs": [],
   "source": [
    "marketing_campaign=pd.read_csv('marketing_campaign.csv', sep=',')"
   ]
  },
  {
   "cell_type": "code",
   "execution_count": 6,
   "id": "8dc9aeee",
   "metadata": {},
   "outputs": [],
   "source": [
    "subscribers=pd.read_csv('subscribers.csv', sep=',')"
   ]
  },
  {
   "cell_type": "code",
   "execution_count": 7,
   "id": "79380dad",
   "metadata": {},
   "outputs": [],
   "source": [
    "users=pd.read_csv('users.csv', sep=',')"
   ]
  },
  {
   "cell_type": "code",
   "execution_count": 8,
   "id": "2dd76d2c",
   "metadata": {},
   "outputs": [
    {
     "data": {
      "text/html": [
       "<div>\n",
       "<style scoped>\n",
       "    .dataframe tbody tr th:only-of-type {\n",
       "        vertical-align: middle;\n",
       "    }\n",
       "\n",
       "    .dataframe tbody tr th {\n",
       "        vertical-align: top;\n",
       "    }\n",
       "\n",
       "    .dataframe thead th {\n",
       "        text-align: right;\n",
       "    }\n",
       "</style>\n",
       "<table border=\"1\" class=\"dataframe\">\n",
       "  <thead>\n",
       "    <tr style=\"text-align: right;\">\n",
       "      <th></th>\n",
       "      <th>user_id</th>\n",
       "      <th>date_served</th>\n",
       "      <th>marketing_channel</th>\n",
       "      <th>variant</th>\n",
       "      <th>language_displayed</th>\n",
       "      <th>converted</th>\n",
       "    </tr>\n",
       "  </thead>\n",
       "  <tbody>\n",
       "    <tr>\n",
       "      <th>0</th>\n",
       "      <td>a1000</td>\n",
       "      <td>1/1/18</td>\n",
       "      <td>House Ads</td>\n",
       "      <td>personalization</td>\n",
       "      <td>English</td>\n",
       "      <td>True</td>\n",
       "    </tr>\n",
       "    <tr>\n",
       "      <th>1</th>\n",
       "      <td>a1001</td>\n",
       "      <td>1/1/18</td>\n",
       "      <td>House Ads</td>\n",
       "      <td>personalization</td>\n",
       "      <td>English</td>\n",
       "      <td>True</td>\n",
       "    </tr>\n",
       "    <tr>\n",
       "      <th>2</th>\n",
       "      <td>a1002</td>\n",
       "      <td>1/1/18</td>\n",
       "      <td>House Ads</td>\n",
       "      <td>personalization</td>\n",
       "      <td>English</td>\n",
       "      <td>True</td>\n",
       "    </tr>\n",
       "    <tr>\n",
       "      <th>3</th>\n",
       "      <td>a1003</td>\n",
       "      <td>1/1/18</td>\n",
       "      <td>House Ads</td>\n",
       "      <td>personalization</td>\n",
       "      <td>English</td>\n",
       "      <td>True</td>\n",
       "    </tr>\n",
       "    <tr>\n",
       "      <th>4</th>\n",
       "      <td>a1004</td>\n",
       "      <td>1/1/18</td>\n",
       "      <td>House Ads</td>\n",
       "      <td>personalization</td>\n",
       "      <td>English</td>\n",
       "      <td>True</td>\n",
       "    </tr>\n",
       "  </tbody>\n",
       "</table>\n",
       "</div>"
      ],
      "text/plain": [
       "  user_id date_served marketing_channel          variant language_displayed  \\\n",
       "0   a1000      1/1/18         House Ads  personalization            English   \n",
       "1   a1001      1/1/18         House Ads  personalization            English   \n",
       "2   a1002      1/1/18         House Ads  personalization            English   \n",
       "3   a1003      1/1/18         House Ads  personalization            English   \n",
       "4   a1004      1/1/18         House Ads  personalization            English   \n",
       "\n",
       "  converted  \n",
       "0      True  \n",
       "1      True  \n",
       "2      True  \n",
       "3      True  \n",
       "4      True  "
      ]
     },
     "execution_count": 8,
     "metadata": {},
     "output_type": "execute_result"
    }
   ],
   "source": [
    "marketing_campaign.head()"
   ]
  },
  {
   "cell_type": "code",
   "execution_count": 9,
   "id": "3f340ed9",
   "metadata": {},
   "outputs": [
    {
     "data": {
      "text/html": [
       "<div>\n",
       "<style scoped>\n",
       "    .dataframe tbody tr th:only-of-type {\n",
       "        vertical-align: middle;\n",
       "    }\n",
       "\n",
       "    .dataframe tbody tr th {\n",
       "        vertical-align: top;\n",
       "    }\n",
       "\n",
       "    .dataframe thead th {\n",
       "        text-align: right;\n",
       "    }\n",
       "</style>\n",
       "<table border=\"1\" class=\"dataframe\">\n",
       "  <thead>\n",
       "    <tr style=\"text-align: right;\">\n",
       "      <th></th>\n",
       "      <th>user_id</th>\n",
       "      <th>subscribing_channel</th>\n",
       "      <th>date_subscribed</th>\n",
       "      <th>date_canceled</th>\n",
       "      <th>is_retained</th>\n",
       "    </tr>\n",
       "  </thead>\n",
       "  <tbody>\n",
       "    <tr>\n",
       "      <th>0</th>\n",
       "      <td>a1000</td>\n",
       "      <td>House Ads</td>\n",
       "      <td>1/1/18</td>\n",
       "      <td>NaN</td>\n",
       "      <td>True</td>\n",
       "    </tr>\n",
       "    <tr>\n",
       "      <th>1</th>\n",
       "      <td>a1001</td>\n",
       "      <td>House Ads</td>\n",
       "      <td>1/1/18</td>\n",
       "      <td>NaN</td>\n",
       "      <td>True</td>\n",
       "    </tr>\n",
       "    <tr>\n",
       "      <th>2</th>\n",
       "      <td>a1002</td>\n",
       "      <td>House Ads</td>\n",
       "      <td>1/1/18</td>\n",
       "      <td>NaN</td>\n",
       "      <td>True</td>\n",
       "    </tr>\n",
       "    <tr>\n",
       "      <th>3</th>\n",
       "      <td>a1003</td>\n",
       "      <td>House Ads</td>\n",
       "      <td>1/1/18</td>\n",
       "      <td>NaN</td>\n",
       "      <td>True</td>\n",
       "    </tr>\n",
       "    <tr>\n",
       "      <th>4</th>\n",
       "      <td>a1004</td>\n",
       "      <td>House Ads</td>\n",
       "      <td>1/1/18</td>\n",
       "      <td>NaN</td>\n",
       "      <td>True</td>\n",
       "    </tr>\n",
       "  </tbody>\n",
       "</table>\n",
       "</div>"
      ],
      "text/plain": [
       "  user_id subscribing_channel date_subscribed date_canceled is_retained\n",
       "0   a1000           House Ads          1/1/18           NaN        True\n",
       "1   a1001           House Ads          1/1/18           NaN        True\n",
       "2   a1002           House Ads          1/1/18           NaN        True\n",
       "3   a1003           House Ads          1/1/18           NaN        True\n",
       "4   a1004           House Ads          1/1/18           NaN        True"
      ]
     },
     "execution_count": 9,
     "metadata": {},
     "output_type": "execute_result"
    }
   ],
   "source": [
    "subscribers.head()"
   ]
  },
  {
   "cell_type": "code",
   "execution_count": 10,
   "id": "1f437f50",
   "metadata": {},
   "outputs": [
    {
     "data": {
      "text/html": [
       "<div>\n",
       "<style scoped>\n",
       "    .dataframe tbody tr th:only-of-type {\n",
       "        vertical-align: middle;\n",
       "    }\n",
       "\n",
       "    .dataframe tbody tr th {\n",
       "        vertical-align: top;\n",
       "    }\n",
       "\n",
       "    .dataframe thead th {\n",
       "        text-align: right;\n",
       "    }\n",
       "</style>\n",
       "<table border=\"1\" class=\"dataframe\">\n",
       "  <thead>\n",
       "    <tr style=\"text-align: right;\">\n",
       "      <th></th>\n",
       "      <th>user_id</th>\n",
       "      <th>age_group</th>\n",
       "      <th>language_preferred</th>\n",
       "    </tr>\n",
       "  </thead>\n",
       "  <tbody>\n",
       "    <tr>\n",
       "      <th>0</th>\n",
       "      <td>a1000</td>\n",
       "      <td>0-18 years</td>\n",
       "      <td>English</td>\n",
       "    </tr>\n",
       "    <tr>\n",
       "      <th>1</th>\n",
       "      <td>a1001</td>\n",
       "      <td>19-24 years</td>\n",
       "      <td>English</td>\n",
       "    </tr>\n",
       "    <tr>\n",
       "      <th>2</th>\n",
       "      <td>a1002</td>\n",
       "      <td>24-30 years</td>\n",
       "      <td>English</td>\n",
       "    </tr>\n",
       "    <tr>\n",
       "      <th>3</th>\n",
       "      <td>a1003</td>\n",
       "      <td>30-36 years</td>\n",
       "      <td>English</td>\n",
       "    </tr>\n",
       "    <tr>\n",
       "      <th>4</th>\n",
       "      <td>a1004</td>\n",
       "      <td>36-45 years</td>\n",
       "      <td>English</td>\n",
       "    </tr>\n",
       "  </tbody>\n",
       "</table>\n",
       "</div>"
      ],
      "text/plain": [
       "  user_id    age_group language_preferred\n",
       "0   a1000   0-18 years            English\n",
       "1   a1001  19-24 years            English\n",
       "2   a1002  24-30 years            English\n",
       "3   a1003  30-36 years            English\n",
       "4   a1004  36-45 years            English"
      ]
     },
     "execution_count": 10,
     "metadata": {},
     "output_type": "execute_result"
    }
   ],
   "source": [
    "users.head()"
   ]
  },
  {
   "cell_type": "markdown",
   "id": "dd10d0d0",
   "metadata": {},
   "source": [
    "## Кол-во строк и типы"
   ]
  },
  {
   "cell_type": "code",
   "execution_count": 14,
   "id": "fa313272",
   "metadata": {},
   "outputs": [
    {
     "name": "stdout",
     "output_type": "stream",
     "text": [
      "<class 'pandas.core.frame.DataFrame'>\n",
      "RangeIndex: 10037 entries, 0 to 10036\n",
      "Data columns (total 6 columns):\n",
      " #   Column              Non-Null Count  Dtype \n",
      "---  ------              --------------  ----- \n",
      " 0   user_id             10037 non-null  object\n",
      " 1   date_served         10021 non-null  object\n",
      " 2   marketing_channel   10022 non-null  object\n",
      " 3   variant             10037 non-null  object\n",
      " 4   language_displayed  10037 non-null  object\n",
      " 5   converted           10022 non-null  object\n",
      "dtypes: object(6)\n",
      "memory usage: 470.6+ KB\n"
     ]
    }
   ],
   "source": [
    "marketing_campaign.info()"
   ]
  },
  {
   "cell_type": "code",
   "execution_count": 15,
   "id": "58bedd43",
   "metadata": {},
   "outputs": [
    {
     "name": "stdout",
     "output_type": "stream",
     "text": [
      "<class 'pandas.core.frame.DataFrame'>\n",
      "RangeIndex: 10037 entries, 0 to 10036\n",
      "Data columns (total 5 columns):\n",
      " #   Column               Non-Null Count  Dtype \n",
      "---  ------               --------------  ----- \n",
      " 0   user_id              10037 non-null  object\n",
      " 1   subscribing_channel  1856 non-null   object\n",
      " 2   date_subscribed      1856 non-null   object\n",
      " 3   date_canceled        577 non-null    object\n",
      " 4   is_retained          1856 non-null   object\n",
      "dtypes: object(5)\n",
      "memory usage: 392.2+ KB\n"
     ]
    }
   ],
   "source": [
    "subscribers.info()"
   ]
  },
  {
   "cell_type": "code",
   "execution_count": 16,
   "id": "079d5750",
   "metadata": {},
   "outputs": [
    {
     "name": "stdout",
     "output_type": "stream",
     "text": [
      "<class 'pandas.core.frame.DataFrame'>\n",
      "RangeIndex: 10037 entries, 0 to 10036\n",
      "Data columns (total 3 columns):\n",
      " #   Column              Non-Null Count  Dtype \n",
      "---  ------              --------------  ----- \n",
      " 0   user_id             10037 non-null  object\n",
      " 1   age_group           10037 non-null  object\n",
      " 2   language_preferred  10037 non-null  object\n",
      "dtypes: object(3)\n",
      "memory usage: 235.4+ KB\n"
     ]
    }
   ],
   "source": [
    "users.info()"
   ]
  },
  {
   "cell_type": "markdown",
   "id": "333fa02e",
   "metadata": {},
   "source": [
    "## Объединенный df"
   ]
  },
  {
   "cell_type": "code",
   "execution_count": 17,
   "id": "8394c266",
   "metadata": {},
   "outputs": [],
   "source": [
    "df = marketing_campaign.merge(users, how = 'outer', on = 'user_id')"
   ]
  },
  {
   "cell_type": "code",
   "execution_count": 18,
   "id": "33795c72",
   "metadata": {},
   "outputs": [],
   "source": [
    "df = df.merge(subscribers, how = 'outer', on = 'user_id' )"
   ]
  },
  {
   "cell_type": "code",
   "execution_count": 20,
   "id": "b3183745",
   "metadata": {},
   "outputs": [
    {
     "data": {
      "text/html": [
       "<div>\n",
       "<style scoped>\n",
       "    .dataframe tbody tr th:only-of-type {\n",
       "        vertical-align: middle;\n",
       "    }\n",
       "\n",
       "    .dataframe tbody tr th {\n",
       "        vertical-align: top;\n",
       "    }\n",
       "\n",
       "    .dataframe thead th {\n",
       "        text-align: right;\n",
       "    }\n",
       "</style>\n",
       "<table border=\"1\" class=\"dataframe\">\n",
       "  <thead>\n",
       "    <tr style=\"text-align: right;\">\n",
       "      <th></th>\n",
       "      <th>user_id</th>\n",
       "      <th>date_served</th>\n",
       "      <th>marketing_channel</th>\n",
       "      <th>variant</th>\n",
       "      <th>language_displayed</th>\n",
       "      <th>converted</th>\n",
       "      <th>age_group</th>\n",
       "      <th>language_preferred</th>\n",
       "      <th>subscribing_channel</th>\n",
       "      <th>date_subscribed</th>\n",
       "      <th>date_canceled</th>\n",
       "      <th>is_retained</th>\n",
       "    </tr>\n",
       "  </thead>\n",
       "  <tbody>\n",
       "    <tr>\n",
       "      <th>count</th>\n",
       "      <td>10037</td>\n",
       "      <td>10021</td>\n",
       "      <td>10022</td>\n",
       "      <td>10037</td>\n",
       "      <td>10037</td>\n",
       "      <td>10022</td>\n",
       "      <td>10037</td>\n",
       "      <td>10037</td>\n",
       "      <td>1856</td>\n",
       "      <td>1856</td>\n",
       "      <td>577</td>\n",
       "      <td>1856</td>\n",
       "    </tr>\n",
       "    <tr>\n",
       "      <th>unique</th>\n",
       "      <td>10037</td>\n",
       "      <td>31</td>\n",
       "      <td>5</td>\n",
       "      <td>2</td>\n",
       "      <td>4</td>\n",
       "      <td>2</td>\n",
       "      <td>7</td>\n",
       "      <td>4</td>\n",
       "      <td>5</td>\n",
       "      <td>31</td>\n",
       "      <td>115</td>\n",
       "      <td>2</td>\n",
       "    </tr>\n",
       "    <tr>\n",
       "      <th>top</th>\n",
       "      <td>a1000</td>\n",
       "      <td>1/15/18</td>\n",
       "      <td>House Ads</td>\n",
       "      <td>control</td>\n",
       "      <td>English</td>\n",
       "      <td>False</td>\n",
       "      <td>19-24 years</td>\n",
       "      <td>English</td>\n",
       "      <td>Instagram</td>\n",
       "      <td>1/16/18</td>\n",
       "      <td>4/2/18</td>\n",
       "      <td>True</td>\n",
       "    </tr>\n",
       "    <tr>\n",
       "      <th>freq</th>\n",
       "      <td>1</td>\n",
       "      <td>789</td>\n",
       "      <td>4733</td>\n",
       "      <td>5091</td>\n",
       "      <td>9793</td>\n",
       "      <td>8946</td>\n",
       "      <td>1682</td>\n",
       "      <td>9275</td>\n",
       "      <td>600</td>\n",
       "      <td>163</td>\n",
       "      <td>15</td>\n",
       "      <td>1279</td>\n",
       "    </tr>\n",
       "  </tbody>\n",
       "</table>\n",
       "</div>"
      ],
      "text/plain": [
       "       user_id date_served marketing_channel  variant language_displayed  \\\n",
       "count    10037       10021             10022    10037              10037   \n",
       "unique   10037          31                 5        2                  4   \n",
       "top      a1000     1/15/18         House Ads  control            English   \n",
       "freq         1         789              4733     5091               9793   \n",
       "\n",
       "       converted    age_group language_preferred subscribing_channel  \\\n",
       "count      10022        10037              10037                1856   \n",
       "unique         2            7                  4                   5   \n",
       "top        False  19-24 years            English           Instagram   \n",
       "freq        8946         1682               9275                 600   \n",
       "\n",
       "       date_subscribed date_canceled is_retained  \n",
       "count             1856           577        1856  \n",
       "unique              31           115           2  \n",
       "top            1/16/18        4/2/18        True  \n",
       "freq               163            15        1279  "
      ]
     },
     "execution_count": 20,
     "metadata": {},
     "output_type": "execute_result"
    }
   ],
   "source": [
    "df.describe()"
   ]
  },
  {
   "cell_type": "code",
   "execution_count": 64,
   "id": "f70aac1c",
   "metadata": {},
   "outputs": [],
   "source": [
    "df_c = df[df['converted']==True].groupby('subscribing_channel', as_index=False)['user_id'].count()  \n",
    "df_n_c = df.groupby('marketing_channel', as_index=False)['user_id'].count() "
   ]
  },
  {
   "cell_type": "code",
   "execution_count": 69,
   "id": "10185539",
   "metadata": {},
   "outputs": [],
   "source": [
    "df_t=df_c.merge(df_n_c, left_on='subscribing_channel', right_on = 'marketing_channel', how='outer')"
   ]
  },
  {
   "cell_type": "code",
   "execution_count": 71,
   "id": "66e58354",
   "metadata": {},
   "outputs": [],
   "source": [
    "df_t['eff'] = df_t.user_id_x/df_t.user_id_y"
   ]
  },
  {
   "cell_type": "code",
   "execution_count": 72,
   "id": "b2f9446f",
   "metadata": {},
   "outputs": [
    {
     "data": {
      "text/html": [
       "<div>\n",
       "<style scoped>\n",
       "    .dataframe tbody tr th:only-of-type {\n",
       "        vertical-align: middle;\n",
       "    }\n",
       "\n",
       "    .dataframe tbody tr th {\n",
       "        vertical-align: top;\n",
       "    }\n",
       "\n",
       "    .dataframe thead th {\n",
       "        text-align: right;\n",
       "    }\n",
       "</style>\n",
       "<table border=\"1\" class=\"dataframe\">\n",
       "  <thead>\n",
       "    <tr style=\"text-align: right;\">\n",
       "      <th></th>\n",
       "      <th>subscribing_channel</th>\n",
       "      <th>user_id_x</th>\n",
       "      <th>marketing_channel</th>\n",
       "      <th>user_id_y</th>\n",
       "      <th>eff</th>\n",
       "    </tr>\n",
       "  </thead>\n",
       "  <tbody>\n",
       "    <tr>\n",
       "      <th>0</th>\n",
       "      <td>Email</td>\n",
       "      <td>167</td>\n",
       "      <td>Email</td>\n",
       "      <td>565</td>\n",
       "      <td>0.295575</td>\n",
       "    </tr>\n",
       "    <tr>\n",
       "      <th>3</th>\n",
       "      <td>Instagram</td>\n",
       "      <td>265</td>\n",
       "      <td>Instagram</td>\n",
       "      <td>1871</td>\n",
       "      <td>0.141635</td>\n",
       "    </tr>\n",
       "    <tr>\n",
       "      <th>1</th>\n",
       "      <td>Facebook</td>\n",
       "      <td>237</td>\n",
       "      <td>Facebook</td>\n",
       "      <td>1860</td>\n",
       "      <td>0.127419</td>\n",
       "    </tr>\n",
       "    <tr>\n",
       "      <th>4</th>\n",
       "      <td>Push</td>\n",
       "      <td>83</td>\n",
       "      <td>Push</td>\n",
       "      <td>993</td>\n",
       "      <td>0.083585</td>\n",
       "    </tr>\n",
       "    <tr>\n",
       "      <th>2</th>\n",
       "      <td>House Ads</td>\n",
       "      <td>298</td>\n",
       "      <td>House Ads</td>\n",
       "      <td>4733</td>\n",
       "      <td>0.062962</td>\n",
       "    </tr>\n",
       "  </tbody>\n",
       "</table>\n",
       "</div>"
      ],
      "text/plain": [
       "  subscribing_channel  user_id_x marketing_channel  user_id_y       eff\n",
       "0               Email        167             Email        565  0.295575\n",
       "3           Instagram        265         Instagram       1871  0.141635\n",
       "1            Facebook        237          Facebook       1860  0.127419\n",
       "4                Push         83              Push        993  0.083585\n",
       "2           House Ads        298         House Ads       4733  0.062962"
      ]
     },
     "execution_count": 72,
     "metadata": {},
     "output_type": "execute_result"
    }
   ],
   "source": [
    "#эффективность кампаний\n",
    "df_t.sort_values('eff',ascending=False)"
   ]
  },
  {
   "cell_type": "code",
   "execution_count": 74,
   "id": "3e5c9546",
   "metadata": {},
   "outputs": [
    {
     "data": {
      "text/plain": [
       "age_group\n",
       "0-18 years     1539\n",
       "19-24 years    1682\n",
       "24-30 years    1568\n",
       "30-36 years    1355\n",
       "36-45 years    1353\n",
       "45-55 years    1353\n",
       "55+ years      1187\n",
       "Name: user_id, dtype: int64"
      ]
     },
     "execution_count": 74,
     "metadata": {},
     "output_type": "execute_result"
    }
   ],
   "source": [
    "#Определить количество игроков в каждой возрастной группе\n",
    "df.groupby('age_group')['user_id'].count()"
   ]
  },
  {
   "cell_type": "code",
   "execution_count": 80,
   "id": "bae20199",
   "metadata": {},
   "outputs": [],
   "source": [
    "df.date_subscribed=pd.to_datetime(df.date_subscribed)"
   ]
  },
  {
   "cell_type": "code",
   "execution_count": 84,
   "id": "52520861",
   "metadata": {},
   "outputs": [
    {
     "data": {
      "text/plain": [
       "Timestamp('2018-01-01 00:00:00')"
      ]
     },
     "execution_count": 84,
     "metadata": {},
     "output_type": "execute_result"
    }
   ],
   "source": [
    "#Определить самую раннюю дату подписки на сервис\n",
    "df.date_subscribed.min()"
   ]
  },
  {
   "cell_type": "code",
   "execution_count": 91,
   "id": "0e719ac0",
   "metadata": {},
   "outputs": [
    {
     "data": {
      "text/plain": [
       "age_group    language_preferred\n",
       "19-24 years  English               304\n",
       "24-30 years  English               250\n",
       "0-18 years   English               210\n",
       "30-36 years  English               114\n",
       "45-55 years  English               108\n",
       "36-45 years  English               107\n",
       "55+ years    English                86\n",
       "24-30 years  German                 15\n",
       "19-24 years  German                 11\n",
       "             Spanish                10\n",
       "0-18 years   German                 10\n",
       "30-36 years  Spanish                 7\n",
       "45-55 years  Spanish                 6\n",
       "0-18 years   Spanish                 6\n",
       "36-45 years  Spanish                 5\n",
       "24-30 years  Spanish                 5\n",
       "55+ years    Spanish                 5\n",
       "45-55 years  German                  3\n",
       "0-18 years   Arabic                  3\n",
       "24-30 years  Arabic                  3\n",
       "45-55 years  Arabic                  2\n",
       "36-45 years  German                  2\n",
       "55+ years    Arabic                  2\n",
       "             German                  2\n",
       "36-45 years  Arabic                  1\n",
       "19-24 years  Arabic                  1\n",
       "30-36 years  German                  1\n",
       "Name: user_id, dtype: int64"
      ]
     },
     "execution_count": 91,
     "metadata": {},
     "output_type": "execute_result"
    }
   ],
   "source": [
    "#Определить портрет аудитории удержанных подписчиков (по возрасту и языку)\n",
    "df[df['is_retained']==True].groupby(['age_group', 'language_preferred'])['user_id'].count().sort_values(ascending=False)"
   ]
  }
 ],
 "metadata": {
  "kernelspec": {
   "display_name": "Python 3 (ipykernel)",
   "language": "python",
   "name": "python3"
  },
  "language_info": {
   "codemirror_mode": {
    "name": "ipython",
    "version": 3
   },
   "file_extension": ".py",
   "mimetype": "text/x-python",
   "name": "python",
   "nbconvert_exporter": "python",
   "pygments_lexer": "ipython3",
   "version": "3.9.12"
  }
 },
 "nbformat": 4,
 "nbformat_minor": 5
}
